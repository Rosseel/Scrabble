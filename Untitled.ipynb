{
 "cells": [
  {
   "cell_type": "code",
   "execution_count": 11,
   "metadata": {},
   "outputs": [
    {
     "name": "stdout",
     "output_type": "stream",
     "text": [
      "1 AEIOULNRST\n",
      "2 DG\n",
      "3 BCMP\n",
      "4 FHVWY\n",
      "5 K\n",
      "8 JX\n",
      "10 QZ\n"
     ]
    },
    {
     "data": {
      "text/plain": [
       "{'a': 1,\n",
       " 'e': 1,\n",
       " 'i': 1,\n",
       " 'l': 1,\n",
       " 'n': 1,\n",
       " 'o': 1,\n",
       " 'r': 1,\n",
       " 's': 1,\n",
       " 't': 1,\n",
       " 'u': 1,\n",
       " 'd': 2,\n",
       " 'g': 2,\n",
       " 'b': 3,\n",
       " 'c': 3,\n",
       " 'm': 3,\n",
       " 'p': 3,\n",
       " 'f': 4,\n",
       " 'h': 4,\n",
       " 'v': 4,\n",
       " 'w': 4,\n",
       " 'y': 4,\n",
       " 'k': 5,\n",
       " 'j': 8,\n",
       " 'x': 8,\n",
       " 'q': 10,\n",
       " 'z': 10}"
      ]
     },
     "execution_count": 11,
     "metadata": {},
     "output_type": "execute_result"
    }
   ],
   "source": [
    "class etl:\n",
    "    \n",
    "    @staticmethod\n",
    "    def transform(data):\n",
    "        new_dict={}\n",
    "        for k,v in data.items():\n",
    "            print(k,v)\n",
    "            for item_v in sorted(v):\n",
    "                new_dict[item_v.lower()]=k\n",
    "        return new_dict\n",
    "            \n",
    "etl.transform({\n",
    "            1: \"AEIOULNRST\",\n",
    "            2: \"DG\",\n",
    "            3: \"BCMP\",\n",
    "            4: \"FHVWY\",\n",
    "            5: \"K\",\n",
    "            8: \"JX\",\n",
    "            10: \"QZ\",\n",
    "        })"
   ]
  }
 ],
 "metadata": {
  "kernelspec": {
   "display_name": "Python 3",
   "language": "python",
   "name": "python3"
  },
  "language_info": {
   "codemirror_mode": {
    "name": "ipython",
    "version": 3
   },
   "file_extension": ".py",
   "mimetype": "text/x-python",
   "name": "python",
   "nbconvert_exporter": "python",
   "pygments_lexer": "ipython3",
   "version": "3.8.5"
  }
 },
 "nbformat": 4,
 "nbformat_minor": 4
}
